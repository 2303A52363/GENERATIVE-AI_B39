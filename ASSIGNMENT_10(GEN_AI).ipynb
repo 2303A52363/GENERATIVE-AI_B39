{
  "cells": [
    {
      "cell_type": "markdown",
      "metadata": {
        "id": "view-in-github",
        "colab_type": "text"
      },
      "source": [
        "<a href=\"https://colab.research.google.com/github/2303A52363/GENERATIVE-AI_B39/blob/main/ASSIGNMENT_10(GEN_AI).ipynb\" target=\"_parent\"><img src=\"https://colab.research.google.com/assets/colab-badge.svg\" alt=\"Open In Colab\"/></a>"
      ]
    },
    {
      "cell_type": "markdown",
      "metadata": {
        "id": "Gzmeu4Xw51aU"
      },
      "source": [
        "ASSIGNMENT-10\n",
        "\n",
        "HALLTICKET NO : 2303A52363\n",
        "\n",
        "BATCH : 39"
      ]
    },
    {
      "cell_type": "code",
      "execution_count": null,
      "metadata": {
        "colab": {
          "background_save": true,
          "base_uri": "https://localhost:8080/"
        },
        "id": "vJRepDBd5oAp",
        "outputId": "fd50701b-c433-494d-8181-dbb061a6bada"
      },
      "outputs": [
        {
          "name": "stdout",
          "output_type": "stream",
          "text": [
            "Epoch 1/30\n",
            "1875/1875 - 63s - 34ms/step - accuracy: 0.9616 - loss: 0.1260 - val_accuracy: 0.9851 - val_loss: 0.0415\n",
            "Epoch 2/30\n",
            "1875/1875 - 59s - 32ms/step - accuracy: 0.9874 - loss: 0.0404 - val_accuracy: 0.9909 - val_loss: 0.0287\n",
            "Epoch 3/30\n",
            "1875/1875 - 86s - 46ms/step - accuracy: 0.9912 - loss: 0.0283 - val_accuracy: 0.9924 - val_loss: 0.0240\n",
            "Epoch 4/30\n",
            "1875/1875 - 79s - 42ms/step - accuracy: 0.9941 - loss: 0.0191 - val_accuracy: 0.9911 - val_loss: 0.0284\n",
            "Epoch 5/30\n",
            "1875/1875 - 84s - 45ms/step - accuracy: 0.9950 - loss: 0.0155 - val_accuracy: 0.9878 - val_loss: 0.0499\n",
            "Epoch 6/30\n",
            "1875/1875 - 81s - 43ms/step - accuracy: 0.9966 - loss: 0.0114 - val_accuracy: 0.9892 - val_loss: 0.0377\n",
            "Epoch 7/30\n",
            "1875/1875 - 80s - 43ms/step - accuracy: 0.9970 - loss: 0.0095 - val_accuracy: 0.9900 - val_loss: 0.0408\n",
            "Epoch 8/30\n",
            "1875/1875 - 84s - 45ms/step - accuracy: 0.9973 - loss: 0.0079 - val_accuracy: 0.9919 - val_loss: 0.0302\n",
            "Epoch 9/30\n",
            "1875/1875 - 80s - 42ms/step - accuracy: 0.9976 - loss: 0.0065 - val_accuracy: 0.9905 - val_loss: 0.0379\n",
            "Epoch 10/30\n",
            "1875/1875 - 59s - 32ms/step - accuracy: 0.9978 - loss: 0.0063 - val_accuracy: 0.9907 - val_loss: 0.0378\n",
            "Epoch 11/30\n",
            "1875/1875 - 85s - 45ms/step - accuracy: 0.9984 - loss: 0.0055 - val_accuracy: 0.9908 - val_loss: 0.0378\n",
            "Epoch 12/30\n",
            "1875/1875 - 80s - 43ms/step - accuracy: 0.9985 - loss: 0.0048 - val_accuracy: 0.9907 - val_loss: 0.0411\n",
            "Epoch 13/30\n",
            "1875/1875 - 81s - 43ms/step - accuracy: 0.9986 - loss: 0.0046 - val_accuracy: 0.9919 - val_loss: 0.0380\n",
            "Epoch 14/30\n",
            "1875/1875 - 81s - 43ms/step - accuracy: 0.9985 - loss: 0.0044 - val_accuracy: 0.9914 - val_loss: 0.0437\n",
            "Epoch 15/30\n",
            "1875/1875 - 82s - 44ms/step - accuracy: 0.9989 - loss: 0.0033 - val_accuracy: 0.9887 - val_loss: 0.0617\n",
            "Epoch 16/30\n",
            "1875/1875 - 60s - 32ms/step - accuracy: 0.9984 - loss: 0.0051 - val_accuracy: 0.9910 - val_loss: 0.0477\n",
            "Epoch 17/30\n",
            "1875/1875 - 62s - 33ms/step - accuracy: 0.9993 - loss: 0.0023 - val_accuracy: 0.9923 - val_loss: 0.0593\n",
            "Epoch 18/30\n",
            "1875/1875 - 76s - 41ms/step - accuracy: 0.9987 - loss: 0.0040 - val_accuracy: 0.9904 - val_loss: 0.0654\n",
            "Epoch 19/30\n",
            "1875/1875 - 83s - 44ms/step - accuracy: 0.9990 - loss: 0.0028 - val_accuracy: 0.9911 - val_loss: 0.0556\n",
            "Epoch 20/30\n",
            "1875/1875 - 59s - 32ms/step - accuracy: 0.9989 - loss: 0.0038 - val_accuracy: 0.9916 - val_loss: 0.0525\n",
            "Epoch 21/30\n",
            "1875/1875 - 79s - 42ms/step - accuracy: 0.9992 - loss: 0.0026 - val_accuracy: 0.9915 - val_loss: 0.0522\n",
            "Epoch 22/30\n",
            "1875/1875 - 83s - 44ms/step - accuracy: 0.9993 - loss: 0.0021 - val_accuracy: 0.9918 - val_loss: 0.0520\n",
            "Epoch 23/30\n",
            "1875/1875 - 84s - 45ms/step - accuracy: 0.9989 - loss: 0.0039 - val_accuracy: 0.9922 - val_loss: 0.0526\n",
            "Epoch 24/30\n",
            "1875/1875 - 81s - 43ms/step - accuracy: 0.9998 - loss: 6.4072e-04 - val_accuracy: 0.9911 - val_loss: 0.0710\n",
            "Epoch 25/30\n",
            "1875/1875 - 81s - 43ms/step - accuracy: 0.9990 - loss: 0.0045 - val_accuracy: 0.9934 - val_loss: 0.0510\n",
            "Epoch 26/30\n",
            "1875/1875 - 82s - 44ms/step - accuracy: 0.9995 - loss: 0.0016 - val_accuracy: 0.9911 - val_loss: 0.0663\n",
            "Epoch 27/30\n",
            "1875/1875 - 56s - 30ms/step - accuracy: 0.9992 - loss: 0.0024 - val_accuracy: 0.9903 - val_loss: 0.0696\n",
            "Epoch 28/30\n",
            "1875/1875 - 59s - 32ms/step - accuracy: 0.9988 - loss: 0.0040 - val_accuracy: 0.9929 - val_loss: 0.0599\n",
            "Epoch 29/30\n",
            "1875/1875 - 82s - 44ms/step - accuracy: 0.9992 - loss: 0.0027 - val_accuracy: 0.9925 - val_loss: 0.0648\n",
            "Epoch 30/30\n",
            "1875/1875 - 58s - 31ms/step - accuracy: 0.9991 - loss: 0.0034 - val_accuracy: 0.9917 - val_loss: 0.0655\n",
            "Test accuracy: 0.9917\n"
          ]
        }
      ],
      "source": [
        "import tensorflow as tf\n",
        "from tensorflow.keras import layers, models\n",
        "from tensorflow.keras.datasets import mnist\n",
        "from tensorflow.keras.utils import to_categorical\n",
        "\n",
        "# Load MNIST data\n",
        "(x_train, y_train), (x_test, y_test) = mnist.load_data()\n",
        "\n",
        "# Reshape the images to 28x28x1 (adding the channel dimension)\n",
        "x_train = x_train.reshape(x_train.shape[0], 28, 28, 1)\n",
        "x_test = x_test.reshape(x_test.shape[0], 28, 28, 1)\n",
        "\n",
        "# Normalize pixel values to range [0, 1]\n",
        "x_train, x_test = x_train / 255.0, x_test / 255.0\n",
        "\n",
        "# Convert labels to one-hot encoding\n",
        "y_train = to_categorical(y_train, 10)\n",
        "y_test = to_categorical(y_test, 10)\n",
        "\n",
        "# Build the CNN model\n",
        "model = models.Sequential([\n",
        "    layers.Conv2D(33, (3, 3), activation='relu', input_shape=(28, 28, 1)),\n",
        "    layers.MaxPooling2D((2, 2)),\n",
        "    layers.Conv2D(64, (3, 3), activation='relu'),\n",
        "    layers.MaxPooling2D((2, 2)),\n",
        "    layers.Flatten(),\n",
        "    layers.Dense(128, activation='relu'),\n",
        "    layers.Dense(10, activation='softmax')\n",
        "])\n",
        "\n",
        "# Compile the model\n",
        "model.compile(optimizer='adam', loss='categorical_crossentropy', metrics=['accuracy'])\n",
        "\n",
        "# Train the model and get the final accuracy on the test set\n",
        "history = model.fit(x_train, y_train, epochs=30, batch_size=32, validation_data=(x_test, y_test), verbose=2)\n",
        "\n",
        "# Evaluate the model on the test data\n",
        "test_loss, test_acc = model.evaluate(x_test, y_test, verbose=0)\n",
        "\n",
        "# Output the test accuracy\n",
        "print(f\"Test accuracy: {test_acc:.4f}\")\n"
      ]
    }
  ],
  "metadata": {
    "colab": {
      "provenance": [],
      "authorship_tag": "ABX9TyMlb3KV3t3lYnwcWA632eKA",
      "include_colab_link": true
    },
    "kernelspec": {
      "display_name": "Python 3",
      "name": "python3"
    },
    "language_info": {
      "name": "python"
    }
  },
  "nbformat": 4,
  "nbformat_minor": 0
}